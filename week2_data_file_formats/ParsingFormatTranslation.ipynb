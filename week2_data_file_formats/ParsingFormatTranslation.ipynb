{
 "cells": [
  {
   "cell_type": "markdown",
   "metadata": {},
   "source": [
    "## Exercise one\n",
    "Using either this [XML file Download](../People.xml) or this [JSON file Download](../People.json) (both contain the same data) \n",
    "1. Write a program using the appropriate APIs to translate from one format to another. So you can either use the XML file and translate into JSON or use the JSON file and translate it into XML. \n",
    "2. You should output the generated format to file. The file outputted from your program can then be compared with the version given here. \n",
    "3. What, if any, differences are there? Do these differences affect the integrity of the data in the file you generated? If they do, what changes do you need to make your program?"
   ]
  },
  {
   "cell_type": "code",
   "execution_count": 59,
   "metadata": {},
   "outputs": [],
   "source": [
    "import xml.etree.ElementTree as ET\n",
    "\n",
    "def xmlParser():\n",
    "    # Parse the XML file\n",
    "    tree = ET.parse(\"People.xml\")\n",
    "    root = tree.getroot()\n",
    "\n",
    "    # Retrieve information about the root element\n",
    "    rootValues = f'Root Tag: {root.tag} | Root Attributes: {root.attrib} | Root Text: {root.text}'\n",
    "\n",
    "    # Get the first record to check data structure\n",
    "    student1 = root[0]\n",
    "    ET.dump(student1)\n",
    "\n",
    "    # Print the column headers\n",
    "    print(\"{:<10}\\t{:<12}\\t{:<12}\\t{:<12}\\t{:<5}\\t{:<10}\".format(\n",
    "        \"Title\", \"First Name\", \"Surname\", \"Other Names\", \"Age\", \"City\"\n",
    "    ))\n",
    "\n",
    "    # Print all records\n",
    "    for student in root:\n",
    "        # Extract the values for each column\n",
    "        title = student.find(\"fullName\").get('title')  # Title is an attribute\n",
    "        firstName = student.find(\"fullName/firstName\").text  # First name is a value inside a tag\n",
    "        surname = student.find('fullName/surname').text\n",
    "        age = student.find(\"age\").text\n",
    "        city = student.find('city').text\n",
    "        #dealing with nested tags\n",
    "        other_names = []\n",
    "        other_names_Elements = student.findall(\"fullName/other/name\")\n",
    "        for name in other_names_Elements:\n",
    "            other_names.append(name.text)\n",
    "\n",
    "        # Print the record with proper formatting\n",
    "        print(\"{:<10}\\t{:<12}\\t{:<12}\\t{:<12}\\t{:<5}\\t{:<10}\".format(\n",
    "            title, firstName, surname, \", \".join(other_names), age, city\n",
    "        ))\n",
    "\n",
    "\n"
   ]
  },
  {
   "cell_type": "code",
   "execution_count": 60,
   "metadata": {},
   "outputs": [
    {
     "name": "stdout",
     "output_type": "stream",
     "text": [
      "<student>\n",
      "\t<fullName title=\"Mrs\">\n",
      "\t\t<firstName>Lisa</firstName>\n",
      "\t\t<surname>Penny</surname>\n",
      "\t\t<other num=\"1\">\n",
      "\t\t\t<name>Melanie</name>\n",
      "\t\t</other>\n",
      "\t</fullName>\n",
      "\t<age>32</age>\n",
      "\t<city>London</city>\n",
      "\t</student>\n",
      "\t\n",
      "\t\n",
      "\t\n",
      "Title     \tFirst Name  \tSurname     \tOther Names \tAge  \tCity      \n",
      "Mrs       \tLisa        \tPenny       \tMelanie     \t32   \tLondon    \n",
      "Mr        \tLorenzo     \tDubois      \tRuelle, Garlen\t38   \tParis     \n",
      "Mr        \tTakeshi     \tTanaka      \t            \t25   \tTokyo     \n",
      "Mr        \tTanveer     \tPatel       \tVihaan      \t27   \tMumbai    \n",
      "Miss      \tIolanda     \tMelo        \tBianca      \t23   \tLisbon    \n"
     ]
    }
   ],
   "source": [
    "xmlParser()"
   ]
  },
  {
   "cell_type": "code",
   "execution_count": 18,
   "metadata": {},
   "outputs": [],
   "source": [
    "import json\n",
    "\n",
    "def jasonParser():\n",
    "    '''Parsing a JSON file'''\n",
    "    inFile = open(\"People.json\", mode=\"r\")\n",
    "    dataFile = json.load(inFile)\n",
    "    # print(dataFile)  # Uncomment this line to print the entire JSON data\n",
    "    inFile.close()\n",
    "\n",
    "    # Print the column headers\n",
    "    print(\"{:<5}\\t{:<10}\\t{:<12}\\t{:<12}\\t{:<12}\\t{:<5}\\t{:<10}\".format(\n",
    "        \"ID\", \"Title\", \"First Name\", \"Surname\", \"Other Names\", \"Age\", \"City\"\n",
    "    ))\n",
    "\n",
    "    # Iterate over each student record\n",
    "    for student in dataFile['students']:\n",
    "        # Extract the required fields from the student dictionary\n",
    "        id = student['id']\n",
    "        title = student['fullName']['title']\n",
    "        first = student['fullName']['first']\n",
    "        surname = student['fullName']['surname']\n",
    "\n",
    "        otherNames = []\n",
    "        # Iterate over the list of other names and append to the new list if it is not None\n",
    "        for name in student['fullName']['other']:\n",
    "            if name:\n",
    "                otherNames.append(name)\n",
    "            else:\n",
    "                continue\n",
    "\n",
    "        other_Names = \" \".join(otherNames)\n",
    "        age = student['age']\n",
    "        city = student['city']\n",
    "\n",
    "        # Print the record with proper formatting\n",
    "        print(\"{:<5}\\t{:<10}\\t{:<12}\\t{:<12}\\t{:<12}\\t{:<5}\\t{:<10}\".format(\n",
    "            id, title, first, surname, other_Names, age, city\n",
    "        ))\n",
    "    \n",
    "\n",
    "   \n",
    "  "
   ]
  },
  {
   "cell_type": "code",
   "execution_count": 19,
   "metadata": {},
   "outputs": [
    {
     "name": "stdout",
     "output_type": "stream",
     "text": [
      "ID   \tTitle     \tFirst Name  \tSurname     \tOther Names \tAge  \tCity      \n",
      "897654\tMrs       \tLisa        \tPenny       \tMelanie     \t32   \tLondon    \n",
      "786789\tMr        \tLorenzo     \tDubois      \tRuelle Garlen\t38   \tParis     \n",
      "546854\tMr        \tTakeshi     \tTanaka      \t            \t25   \tTokyo     \n",
      "238751\tMr        \tTanveer     \tPatel       \tVihaan      \t27   \tMumbai    \n",
      "894573\tMiss      \tIolanda     \tMelo        \tBianca      \t23   \tLisbon    \n"
     ]
    }
   ],
   "source": [
    "jasonParser()"
   ]
  }
 ],
 "metadata": {
  "kernelspec": {
   "display_name": "Python 3",
   "language": "python",
   "name": "python3"
  },
  "language_info": {
   "codemirror_mode": {
    "name": "ipython",
    "version": 3
   },
   "file_extension": ".py",
   "mimetype": "text/x-python",
   "name": "python",
   "nbconvert_exporter": "python",
   "pygments_lexer": "ipython3",
   "version": "3.11.4"
  },
  "orig_nbformat": 4
 },
 "nbformat": 4,
 "nbformat_minor": 2
}
