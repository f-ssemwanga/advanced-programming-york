{
 "cells": [
  {
   "cell_type": "markdown",
   "metadata": {},
   "source": [
    "## Exercise one\n",
    "Using the following [.csv file](../week2_data_file_formats/Wk2_File_Samples/PeopleTrainngDate.csv) \n",
    "\n",
    "- Download .csv file\n",
    "- Write a Python program to parse (split) the content using string functions only and store it in an appropriate data structure. \n",
    "- Print out a table with all the data using the following column headings (which are the first line in the css file): Title,Name,ID,Email,Company,Updated. Remember to consider readability and use formatting instructions in the output. "
   ]
  }
 ],
 "metadata": {
  "language_info": {
   "name": "python"
  },
  "orig_nbformat": 4
 },
 "nbformat": 4,
 "nbformat_minor": 2
}
