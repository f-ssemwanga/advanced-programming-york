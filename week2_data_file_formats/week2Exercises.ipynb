{
 "cells": [
  {
   "cell_type": "markdown",
   "metadata": {},
   "source": [
    "## Exercise one: \n",
    "Given the following data set \n",
    "![Grade Data](../week2_data_file_formats/Wk2%20File%20Samples/gradeData.png)\n",
    "\n",
    "Download data set consider how you would structure it using XML. Using any standard plain text editor (see Setup for examples) write an XML document using this data and a DTD to validate it. There are a number of free online validation services for XML and DTDs. Here is one for XML validationLinks to an external site.. "
   ]
  },
  {
   "cell_type": "code",
   "execution_count": null,
   "metadata": {},
   "outputs": [],
   "source": []
  }
 ],
 "metadata": {
  "language_info": {
   "name": "python"
  },
  "orig_nbformat": 4
 },
 "nbformat": 4,
 "nbformat_minor": 2
}
