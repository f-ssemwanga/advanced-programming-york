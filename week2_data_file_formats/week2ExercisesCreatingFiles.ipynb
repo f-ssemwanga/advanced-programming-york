{
 "cells": [
  {
   "cell_type": "markdown",
   "metadata": {},
   "source": [
    "## Exercise one: \n",
    "Given the following data set \n",
    "![Grade Data](../week2_data_file_formats/Wk2_File_Samples/gradeData.png)\n",
    "\n",
    "Download data set consider how you would structure it using XML. Using any standard plain text editor (see Setup for examples) write an XML document using this data and a DTD to validate it. There are a number of free online validation services for XML and DTDs. Here is one for XML validationLinks to an [external site](https://www.xmlvalidation.com/).\n",
    "\n",
    "Resources used: [XML Notepad](https://microsoft.github.io/XmlNotepad/)\n",
    "\n",
    "# Solutions\n",
    "* XML File: [exerciseOne.xml](../week2_data_file_formats/Wk2_File_Samples/exerciseOne.xml)\n",
    "* DDT File: [exerciseOne.dtd](../week2_data_file_formats/Wk2_File_Samples/exerciseOne.xml)"
   ]
  },
  {
   "cell_type": "markdown",
   "metadata": {},
   "source": [
    "## Exercise two: \n",
    "Given the following data set \n",
    "[Jason DataSet](../week2_data_file_formats/Wk2_File_Samples/jason_DataSet.png)\n",
    "Download data set consider how would you structure it in JSON. Write a JSON file to demonstrate how you would structure this data, using a plain text editor. Again, there are a number of [JSON validators](https://www.freeformatter.com/json-validator.html). \n",
    "\n",
    "\n",
    "# Solution\n",
    "* JASON FILE: [Horse Racing Records](../week2_data_file_formats/Wk2_File_Samples/horseRacingRecords.json)"
   ]
  },
  {
   "cell_type": "markdown",
   "metadata": {},
   "source": [
    "## Exercise three: \n",
    "Now you have had a go at structuring data in these formats, which you think is the most effective and why. Consider the following to aid your discussion:\n",
    "\n",
    "An XML DTD lacks type constraints which were resolved by the introduction of an XML Schema. JSON has basic typing built in:\n",
    "Why is the concept of ‘types’ important?\n",
    "What would be the advantages and/or disadvantages if there were no types?\n",
    "Considering some programming languages adhere to the principle of “Duck typing”, would this be a better approach to structuring documents for use with programs?\n",
    "Both JSON and XML are considered semi-structured data representations, whereas CSV is classified more towards unstructured, or minimally structured. There are considerable overheads with writing both JSON and XML, whereas CSV has been and is still used effectively.\n",
    "What do we gain from semi-structured data, and given the current advances in application development, is this gain essential to moving technology forward?\n",
    "\n",
    "#### Importance of the concept of 'types' in programming and data representation\n",
    "\n",
    "- Data integrity and validation - use of types ensures data integrity by enforcing rules and constraints such as range, format and relationships of data.  Hence allowing for validation and prevention of inconsistent and incorrect data.\n",
    "\n",
    "- Types provides a way of standardising of exchange and representation of data between systems and programming languages\n",
    "- Use of types allow for improvements in performance and efficiency - types allow for efficient memory usage and allows translators to perform code optimisation resulting in faster execution.\n",
    "- Types aid in code readability and maintainability - by explicitly stating types the purpose of parts of the code become easier to understand, making it more readable and easier to debug.\n",
    "\n",
    "#### Duck typing\n",
    "- Refers to a concept where the suitability of an object for a certain operation is determined by its behaviour rather than its explicit type.  The main risk of duck typing is that if the behaviour of an object changes  unexpectedly, it can lead to errors  that are difficult to debug.\n",
    "- JASON and XML offer flexibility in representation of data that does not fit into traditional tabular structures.\n",
    "- Gains achieved from semi-structured data needs to be balanced with  performance, validation and interoperability.  CSV may be preferred for its simplicity and efficiency\n"
   ]
  },
  {
   "cell_type": "code",
   "execution_count": 4,
   "metadata": {},
   "outputs": [
    {
     "name": "stdout",
     "output_type": "stream",
     "text": [
      "Half a pound of tuppenny rice,\n",
      "\n",
      "Half a pound of treacle.\n",
      "\n",
      "That's the way the money goes,\n",
      "\n",
      "Pop! goes the weasel.\n"
     ]
    }
   ],
   "source": [
    "f =  open(\"sample.txt\")\n",
    "for line in f:\n",
    "  print(line)\n",
    "f.close()"
   ]
  },
  {
   "cell_type": "code",
   "execution_count": 5,
   "metadata": {},
   "outputs": [
    {
     "name": "stdout",
     "output_type": "stream",
     "text": [
      "Half a pound of tuppenny rice,\n",
      "Half a pound of treacle.\n",
      "That's the way the money goes,\n",
      "Pop! goes the weasel.\n"
     ]
    }
   ],
   "source": [
    "f =  open(\"sample.txt\")\n",
    "for line in f:\n",
    "  temp = line.strip('\\n')\n",
    "  print(temp)\n",
    "f.close()"
   ]
  }
 ],
 "metadata": {
  "kernelspec": {
   "display_name": "Python 3",
   "language": "python",
   "name": "python3"
  },
  "language_info": {
   "codemirror_mode": {
    "name": "ipython",
    "version": 3
   },
   "file_extension": ".py",
   "mimetype": "text/x-python",
   "name": "python",
   "nbconvert_exporter": "python",
   "pygments_lexer": "ipython3",
   "version": "3.11.4"
  },
  "orig_nbformat": 4
 },
 "nbformat": 4,
 "nbformat_minor": 2
}
