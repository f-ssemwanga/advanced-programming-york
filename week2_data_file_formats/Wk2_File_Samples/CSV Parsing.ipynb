{
 "cells": [
  {
   "cell_type": "markdown",
   "metadata": {},
   "source": [
    "## reader()\n",
    "You will need to make sure that the code has access to teh file 'StudentActivities.csv'"
   ]
  },
  {
   "cell_type": "code",
   "execution_count": null,
   "metadata": {},
   "outputs": [],
   "source": [
    "import csv\n",
    "\n",
    "with open('StudentActivities.csv', newline='') as inFile:\n",
    "    dataReader = csv.reader(inFile)\n",
    "    for row in dataReader:\n",
    "        print(row, end='')"
   ]
  },
  {
   "cell_type": "code",
   "execution_count": null,
   "metadata": {},
   "outputs": [],
   "source": [
    "with open('StudentActivities.csv', newline='') as inFile:\n",
    "    dataReader = csv.reader(inFile)\n",
    "    for row in dataReader:\n",
    "        print(row[3], row[6])"
   ]
  },
  {
   "cell_type": "markdown",
   "metadata": {},
   "source": [
    "## DictReader()"
   ]
  },
  {
   "cell_type": "code",
   "execution_count": null,
   "metadata": {},
   "outputs": [],
   "source": [
    "with open('StudentActivities.csv', newline='') as inFile:\n",
    "    dataReader = csv.DictReader(inFile)\n",
    "    for line in dataReader:\n",
    "        print(line)"
   ]
  },
  {
   "cell_type": "code",
   "execution_count": null,
   "metadata": {},
   "outputs": [],
   "source": [
    "with open('StudentActivities.csv', newline='') as inFile:\n",
    "    dataReader = csv.DictReader(inFile)\n",
    "    for line in dataReader:\n",
    "        print(line.get('Course'), line.get('Gaming(h/w)'))"
   ]
  },
  {
   "cell_type": "code",
   "execution_count": null,
   "metadata": {},
   "outputs": [],
   "source": [
    "with open('StudentActivities.csv', newline='') as inFile:\n",
    "    dataReader = csv.DictReader(inFile)\n",
    "    for line in dataReader:\n",
    "        if int(line.get('ID')) == 14:\n",
    "            print(line.get('Gender'), line.get('Age'), line.get('Device'))"
   ]
  },
  {
   "cell_type": "markdown",
   "metadata": {},
   "source": [
    "## writer()"
   ]
  },
  {
   "cell_type": "code",
   "execution_count": null,
   "metadata": {},
   "outputs": [],
   "source": [
    "data = [['T1', 'T2','T3', 'T4','T5'],\n",
    "        [56,23,325,4234,2],\n",
    "        [3123,3654,85,342,745],\n",
    "        [234,234,234,242,11]]"
   ]
  },
  {
   "cell_type": "code",
   "execution_count": null,
   "metadata": {},
   "outputs": [],
   "source": [
    "with open('newData1.csv', 'w', newline='') as outFile:\n",
    "    dataWriter = csv.writer(outFile)\n",
    "    for x in data:\n",
    "        dataWriter.writerow(x)"
   ]
  },
  {
   "cell_type": "code",
   "execution_count": null,
   "metadata": {},
   "outputs": [],
   "source": [
    "with open('newData2.csv', 'w', newline='') as outFile:\n",
    "    dataWriter = csv.writer(outFile)\n",
    "    dataWriter.writerows(data)"
   ]
  },
  {
   "cell_type": "markdown",
   "metadata": {},
   "source": [
    "## DictWriter()"
   ]
  },
  {
   "cell_type": "code",
   "execution_count": null,
   "metadata": {},
   "outputs": [],
   "source": [
    "data = [{'T1':56, 'T2':23, 'T3':325, 'T4':4234, 'T5':2},\n",
    "        {'T1':3123, 'T2':3654, 'T3':85, 'T4':342, 'T5':745},\n",
    "        {'T1':234, 'T2':234, 'T3':234, 'T4':242, 'T5':11}]"
   ]
  },
  {
   "cell_type": "code",
   "execution_count": null,
   "metadata": {},
   "outputs": [],
   "source": [
    "with open('newData3.csv', 'w', newline='') as outFile:\n",
    "    dataWriter = csv.DictWriter(outFile,['T1', 'T2','T3', 'T4','T5'])\n",
    "    for x in data:\n",
    "        dataWriter.writerow(x)"
   ]
  },
  {
   "cell_type": "code",
   "execution_count": null,
   "metadata": {},
   "outputs": [],
   "source": [
    "with open('newData4.csv', 'w', newline='') as outFile:\n",
    "    dataWriter = csv.DictWriter(outFile,['T1', 'T2','T3', 'T4','T5'])\n",
    "    dataWriter.writeheader()\n",
    "    dataWriter.writerows(data)"
   ]
  }
 ],
 "metadata": {
  "kernelspec": {
   "display_name": "Python 3",
   "language": "python",
   "name": "python3"
  },
  "language_info": {
   "codemirror_mode": {
    "name": "ipython",
    "version": 3
   },
   "file_extension": ".py",
   "mimetype": "text/x-python",
   "name": "python",
   "nbconvert_exporter": "python",
   "pygments_lexer": "ipython3",
   "version": "3.7.2"
  }
 },
 "nbformat": 4,
 "nbformat_minor": 2
}
