{
 "cells": [
  {
   "cell_type": "markdown",
   "metadata": {},
   "source": [
    "## Importing and searching\n",
    "You will need to make sure the code has access to the file 'StudentActivities.xml'"
   ]
  },
  {
   "cell_type": "code",
   "execution_count": 2,
   "metadata": {},
   "outputs": [],
   "source": [
    "import xml.etree.ElementTree as ET\n",
    "\n",
    "tree = ET.parse('StudentActivities.xml')\n",
    "\n",
    "root = tree.getroot()"
   ]
  },
  {
   "cell_type": "code",
   "execution_count": 3,
   "metadata": {},
   "outputs": [
    {
     "data": {
      "text/plain": [
       "'survey'"
      ]
     },
     "execution_count": 3,
     "metadata": {},
     "output_type": "execute_result"
    }
   ],
   "source": [
    "root.tag"
   ]
  },
  {
   "cell_type": "code",
   "execution_count": 4,
   "metadata": {},
   "outputs": [
    {
     "data": {
      "text/plain": [
       "{}"
      ]
     },
     "execution_count": 4,
     "metadata": {},
     "output_type": "execute_result"
    }
   ],
   "source": [
    "root.attrib"
   ]
  },
  {
   "cell_type": "code",
   "execution_count": 5,
   "metadata": {},
   "outputs": [
    {
     "data": {
      "text/plain": [
       "'\\n\\t'"
      ]
     },
     "execution_count": 5,
     "metadata": {},
     "output_type": "execute_result"
    }
   ],
   "source": [
    "root.text"
   ]
  },
  {
   "cell_type": "code",
   "execution_count": 6,
   "metadata": {},
   "outputs": [
    {
     "name": "stdout",
     "output_type": "stream",
     "text": [
      "<participant id=\"1\">\n",
      "\t\t<gender>M</gender>\n",
      "\t\t<age>19</age>\n",
      "\t\t<course>Computing</course>\n",
      "\t\t<email measure=\"min/day\">30</email>\n",
      "\t\t<research measure=\"hour/week\">5</research> \n",
      "\t\t<gaming measure=\"hour/week\">0</gaming>\n",
      "\t\t<socialising measure=\"hour/week\">2</socialising>\n",
      "\t\t<device>Phone</device>\n",
      "  </participant>\n",
      "\t\n"
     ]
    }
   ],
   "source": [
    "participant1 = root[0]\n",
    "ET.dump(participant1)"
   ]
  },
  {
   "cell_type": "code",
   "execution_count": 7,
   "metadata": {},
   "outputs": [
    {
     "name": "stdout",
     "output_type": "stream",
     "text": [
      "gender {} F\n",
      "course {} Business\n"
     ]
    }
   ],
   "source": [
    "gender = root[1][0] \n",
    "course = root[3][2]\n",
    "print(gender.tag, gender.attrib, gender.text)\n",
    "print(course.tag, course.attrib, course.text)"
   ]
  },
  {
   "cell_type": "code",
   "execution_count": 8,
   "metadata": {},
   "outputs": [
    {
     "name": "stdout",
     "output_type": "stream",
     "text": [
      "gaming {'measure': 'hour/week'} 0\n",
      "device {} Phone\n"
     ]
    }
   ],
   "source": [
    "gaming = participant1[5]\n",
    "device = participant1[7]\n",
    "print(gaming.tag, gaming.attrib, gaming.text)\n",
    "print(device.tag, device.attrib, device.text)"
   ]
  },
  {
   "cell_type": "code",
   "execution_count": 9,
   "metadata": {},
   "outputs": [
    {
     "name": "stdout",
     "output_type": "stream",
     "text": [
      "participant 1 is 19 and access email 30min/day\n",
      "participant 2 is 21 and access email 15min/day\n",
      "participant 3 is 19 and access email 30min/day\n",
      "participant 4 is 23 and access email 30min/day\n",
      "participant 5 is 19 and access email 60min/day\n",
      "participant 6 is 20 and access email 60min/day\n",
      "participant 7 is 26 and access email 50min/day\n",
      "participant 8 is 19 and access email 30min/day\n",
      "participant 9 is 19 and access email 10min/day\n",
      "participant 10 is 19 and access email 10min/day\n",
      "participant 11 is 21 and access email 45min/day\n",
      "participant 12 is 19 and access email 30min/day\n",
      "participant 13 is 19 and access email 10min/day\n",
      "participant 14 is 21 and access email 45min/day\n",
      "participant 15 is 32 and access email 15min/day\n",
      "participant 16 is 19 and access email 10min/day\n"
     ]
    }
   ],
   "source": [
    " for child in root:\n",
    "    ppID = child.get('id')\n",
    "    age = child.find('age')\n",
    "    email = child.find('email')\n",
    "    meas = email.get('measure')\n",
    "    print(f\"participant {ppID} is {age.text}\", end=\"\")\n",
    "    print(f\" and access email {email.text}{meas}\")"
   ]
  },
  {
   "cell_type": "markdown",
   "metadata": {},
   "source": [
    "## Editing and exporting"
   ]
  },
  {
   "cell_type": "code",
   "execution_count": 10,
   "metadata": {},
   "outputs": [],
   "source": [
    "newData =\"BTEC,ALevel,ALevel,NVQ4,BTEC,BTEC,ALevel,NVQ3,BTEC,ALevel,AS,BTEC,ALevel,ALevel,GCSE,BTEC\"\n",
    "data = newData.split(',')"
   ]
  },
  {
   "cell_type": "code",
   "execution_count": 11,
   "metadata": {},
   "outputs": [],
   "source": [
    "i = 0\n",
    "for child in root:\n",
    "    newElm = ET.Element('education',{'update':'28/3/19'})\n",
    "    newElm.text = data[i]\n",
    "    i += 1\n",
    "    child.append(newElm)"
   ]
  },
  {
   "cell_type": "code",
   "execution_count": 12,
   "metadata": {},
   "outputs": [
    {
     "name": "stdout",
     "output_type": "stream",
     "text": [
      "<survey>\n",
      "\t<participant id=\"1\">\n",
      "\t\t<gender>M</gender>\n",
      "\t\t<age>19</age>\n",
      "\t\t<course>Computing</course>\n",
      "\t\t<email measure=\"min/day\">30</email>\n",
      "\t\t<research measure=\"hour/week\">5</research> \n",
      "\t\t<gaming measure=\"hour/week\">0</gaming>\n",
      "\t\t<socialising measure=\"hour/week\">2</socialising>\n",
      "\t\t<device>Phone</device>\n",
      "  <education update=\"28/3/19\">BTEC</education></participant>\n",
      "\t<participant id=\"2\">\n",
      "\t\t<gender>F</gender>\n",
      "\t\t<age>21</age>\n",
      "\t\t<course>English</course>\n",
      "\t\t<email measure=\"min/day\">15</email>\n",
      "\t\t<research measure=\"hour/week\">1</research> \n",
      "\t\t<gaming measure=\"hour/week\">4</gaming>\n",
      "\t\t<socialising measure=\"hour/week\">5</socialising>\n",
      "\t\t<device>Tablet</device>\n",
      "  <education update=\"28/3/19\">ALevel</education></participant>\n",
      "\t<participant id=\"3\">\n",
      "\t\t<gender>F</gender>\n",
      "\t\t<age>19</age>\n",
      "\t\t<course>Business</course>\n",
      "\t\t<email measure=\"min/day\">30</email>\n",
      "\t\t<research measure=\"hour/week\">3</research> \n",
      "\t\t<gaming measure=\"hour/week\">3</gaming>\n",
      "\t\t<socialising measure=\"hour/week\">10</socialising>\n",
      "\t\t<device>Laptop</device>\n",
      "  <education update=\"28/3/19\">ALevel</education></participant>\n",
      "\t<participant id=\"4\">\n",
      "\t\t<gender>M</gender>\n",
      "\t\t<age>23</age>\n",
      "\t\t<course>Business</course>\n",
      "\t\t<email measure=\"min/day\">30</email>\n",
      "\t\t<research measure=\"hour/week\">3</research> \n",
      "\t\t<gaming measure=\"hour/week\">10</gaming>\n",
      "\t\t<socialising measure=\"hour/week\">0</socialising>\n",
      "\t\t<device>Tablet</device>\n",
      "  <education update=\"28/3/19\">NVQ4</education></participant>\t\t\t\n",
      "\t<participant id=\"5\">\n",
      "\t\t<gender>M</gender>\n",
      "\t\t<age>19</age>\n",
      "\t\t<course>Computing</course>\n",
      "\t\t<email measure=\"min/day\">60</email>\n",
      "\t\t<research measure=\"hour/week\">5</research> \n",
      "\t\t<gaming measure=\"hour/week\">10</gaming>\n",
      "\t\t<socialising measure=\"hour/week\">10</socialising>\n",
      "\t\t<device>Laptop</device>\n",
      "  <education update=\"28/3/19\">BTEC</education></participant>\n",
      "\t<participant id=\"6\">\n",
      "\t\t<gender>M</gender>\n",
      "\t\t<age>20</age>\n",
      "\t\t<course>Design</course>\n",
      "\t\t<email measure=\"min/day\">60</email>\n",
      "\t\t<research measure=\"hour/week\">5</research> \n",
      "\t\t<gaming measure=\"hour/week\">14</gaming>\n",
      "\t\t<socialising measure=\"hour/week\">15</socialising>\n",
      "\t\t<device>Desktop</device>\n",
      "  <education update=\"28/3/19\">BTEC</education></participant>\n",
      "\t<participant id=\"7\">\n",
      "\t\t<gender>M</gender>\n",
      "\t\t<age>26</age>\n",
      "\t\t<course>Computing</course>\n",
      "\t\t<email measure=\"min/day\">50</email>\n",
      "\t\t<research measure=\"hour/week\">10</research> \n",
      "\t\t<gaming measure=\"hour/week\">15</gaming>\n",
      "\t\t<socialising measure=\"hour/week\">2</socialising>\n",
      "\t\t<device>Phone</device>\n",
      "  <education update=\"28/3/19\">ALevel</education></participant>\t\t\t\n",
      "\t<participant id=\"8\">\n",
      "\t\t<gender>F</gender>\n",
      "\t\t<age>19</age>\n",
      "\t\t<course>Education</course>\n",
      "\t\t<email measure=\"min/day\">30</email>\n",
      "\t\t<research measure=\"hour/week\">5</research> \n",
      "\t\t<gaming measure=\"hour/week\">5</gaming>\n",
      "\t\t<socialising measure=\"hour/week\">1</socialising>\n",
      "\t\t<device>Laptop</device>\n",
      "  <education update=\"28/3/19\">NVQ3</education></participant>\t\t\t\n",
      "\t<participant id=\"9\">\n",
      "\t\t<gender>F</gender>\n",
      "\t\t<age>19</age>\n",
      "\t\t<course>Design</course>\n",
      "\t\t<email measure=\"min/day\">10</email>\n",
      "\t\t<research measure=\"hour/week\">15</research> \n",
      "\t\t<gaming measure=\"hour/week\">12</gaming>\n",
      "\t\t<socialising measure=\"hour/week\">5</socialising>\n",
      "\t\t<device>Tablet</device>\n",
      "  <education update=\"28/3/19\">BTEC</education></participant>\t\t\n",
      "\t<participant id=\"10\">\n",
      "\t\t<gender>M</gender>\n",
      "\t\t<age>19</age>\n",
      "\t\t<course>Business</course>\n",
      "\t\t<email measure=\"min/day\">10</email>\n",
      "\t\t<research measure=\"hour/week\">10</research> \n",
      "\t\t<gaming measure=\"hour/week\">15</gaming>\n",
      "\t\t<socialising measure=\"hour/week\">10</socialising>\n",
      "\t\t<device>Phone</device>\n",
      "  <education update=\"28/3/19\">ALevel</education></participant>\n",
      "\t<participant id=\"11\">\n",
      "\t\t<gender>F</gender>\n",
      "\t\t<age>21</age>\n",
      "\t\t<course>Business</course>\n",
      "\t\t<email measure=\"min/day\">45</email>\n",
      "\t\t<research measure=\"hour/week\">5</research> \n",
      "\t\t<gaming measure=\"hour/week\">5</gaming>\n",
      "\t\t<socialising measure=\"hour/week\">20</socialising>\n",
      "\t\t<device>Desktop</device>\n",
      "  <education update=\"28/3/19\">AS</education></participant>\n",
      "\t<participant id=\"12\">\n",
      "\t\t<gender>M</gender>\n",
      "\t\t<age>19</age>\n",
      "\t\t<course>Computing</course>\n",
      "\t\t<email measure=\"min/day\">30</email>\n",
      "\t\t<research measure=\"hour/week\">3</research> \n",
      "\t\t<gaming measure=\"hour/week\">6</gaming>\n",
      "\t\t<socialising measure=\"hour/week\">8</socialising>\n",
      "\t\t<device>Phone</device>\n",
      "  <education update=\"28/3/19\">BTEC</education></participant>\t\n",
      "\t<participant id=\"13\">\n",
      "\t\t<gender>M</gender>\n",
      "\t\t<age>19</age>\n",
      "\t\t<course>Computing</course>\n",
      "\t\t<email measure=\"min/day\">10</email>\n",
      "\t\t<research measure=\"hour/week\">2</research> \n",
      "\t\t<gaming measure=\"hour/week\">10</gaming>\n",
      "\t\t<socialising measure=\"hour/week\">12</socialising>\n",
      "\t\t<device>Desktop</device>\n",
      "  <education update=\"28/3/19\">ALevel</education></participant>\t\n",
      "\t<participant id=\"14\">\n",
      "\t\t<gender>F</gender>\n",
      "\t\t<age>21</age>\n",
      "\t\t<course>Business</course>\n",
      "\t\t<email measure=\"min/day\">45</email>\n",
      "\t\t<research measure=\"hour/week\">1</research> \n",
      "\t\t<gaming measure=\"hour/week\">8</gaming>\n",
      "\t\t<socialising measure=\"hour/week\">9</socialising>\n",
      "\t\t<device>Phone</device>\n",
      "  <education update=\"28/3/19\">ALevel</education></participant>\n",
      "\t<participant id=\"15\">\n",
      "\t\t<gender>F</gender>\n",
      "\t\t<age>32</age>\n",
      "\t\t<course>Computing</course>\n",
      "\t\t<email measure=\"min/day\">15</email>\n",
      "\t\t<research measure=\"hour/week\">0</research> \n",
      "\t\t<gaming measure=\"hour/week\">1</gaming>\n",
      "\t\t<socialising measure=\"hour/week\">10</socialising>\n",
      "\t\t<device>Tablet</device>\n",
      "  <education update=\"28/3/19\">GCSE</education></participant>\t\n",
      "\t<participant id=\"16\">\n",
      "\t\t<gender>F</gender>\n",
      "\t\t<age>19</age>\n",
      "\t\t<course>Business</course>\n",
      "\t\t<email measure=\"min/day\">10</email>\n",
      "\t\t<research measure=\"hour/week\">1</research> \n",
      "\t\t<gaming measure=\"hour/week\">9</gaming>\n",
      "\t\t<socialising measure=\"hour/week\">16</socialising>\n",
      "\t\t<device>Laptop</device>\n",
      "  <education update=\"28/3/19\">BTEC</education></participant>\t\t \t\t\n",
      "</survey>\n"
     ]
    }
   ],
   "source": [
    "ET.dump(root)"
   ]
  },
  {
   "cell_type": "code",
   "execution_count": null,
   "metadata": {},
   "outputs": [],
   "source": [
    "for pp in root.findall('participant'):\n",
    "    for child in pp:\n",
    "        try:\n",
    "            value = int(child.text)\n",
    "            if value == 0:\n",
    "                root.remove(pp)\n",
    "        except ValueError:\n",
    "            pass"
   ]
  },
  {
   "cell_type": "code",
   "execution_count": null,
   "metadata": {},
   "outputs": [],
   "source": [
    "tree.write(\"EditedSurvey.xml\")"
   ]
  },
  {
   "cell_type": "code",
   "execution_count": null,
   "metadata": {},
   "outputs": [],
   "source": [
    "gender = []\n",
    "age = []\n",
    "course = []"
   ]
  },
  {
   "cell_type": "code",
   "execution_count": null,
   "metadata": {},
   "outputs": [],
   "source": [
    "for child in root:\n",
    "    gender.append(child[0].text)\n",
    "    age.append(child[1].text)\n",
    "    course.append(child[2].text)"
   ]
  },
  {
   "cell_type": "code",
   "execution_count": null,
   "metadata": {},
   "outputs": [],
   "source": [
    "gender"
   ]
  },
  {
   "cell_type": "code",
   "execution_count": null,
   "metadata": {},
   "outputs": [],
   "source": [
    "age"
   ]
  },
  {
   "cell_type": "code",
   "execution_count": null,
   "metadata": {},
   "outputs": [],
   "source": [
    "course"
   ]
  },
  {
   "cell_type": "code",
   "execution_count": null,
   "metadata": {},
   "outputs": [],
   "source": [
    "id = 1\n",
    "newRoot = ET.Element('surveySection')\n",
    "\n",
    "for i in range(1,len(age)):\n",
    "    stElm = ET.SubElement(newRoot, 'student', {'id':str(i)})\n",
    "    detElm = ET.SubElement(stElm, 'details')\n",
    "    couElm = ET.SubElement(stElm, 'course')\n",
    "    genElm = ET.SubElement(detElm, 'gender')\n",
    "    ageElm = ET.SubElement(detElm, 'age')\n",
    "    genElm.text = gender[i]\n",
    "    ageElm.text = age[i]\n",
    "    couElm.text = course[i]"
   ]
  },
  {
   "cell_type": "code",
   "execution_count": null,
   "metadata": {},
   "outputs": [],
   "source": [
    "newTree = ET.ElementTree(newRoot)\n",
    "\n",
    "newTree.write(\"suverySection.xml\")"
   ]
  }
 ],
 "metadata": {
  "kernelspec": {
   "display_name": "Python 3",
   "language": "python",
   "name": "python3"
  },
  "language_info": {
   "codemirror_mode": {
    "name": "ipython",
    "version": 3
   },
   "file_extension": ".py",
   "mimetype": "text/x-python",
   "name": "python",
   "nbconvert_exporter": "python",
   "pygments_lexer": "ipython3",
   "version": "3.11.4"
  }
 },
 "nbformat": 4,
 "nbformat_minor": 2
}
