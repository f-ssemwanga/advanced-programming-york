{
 "cells": [
  {
   "cell_type": "markdown",
   "metadata": {},
   "source": [
    "## Exercise one\n",
    "Given this plain txt file [Download ](../week2_data_file_formats/The_Raven.txt)\n",
    "Create regular expressions to do the following:\n",
    "1. Find the word ‘shrieked’\n",
    "2. Find the word ‘bleak’\n",
    "3. Count the number of words that contain ‘pp’\n",
    "4. Change all the exclamations marks (!) to hash symbols (#)\n",
    "5. Identify all the words that start with a ‘t” but do not end with an ‘e’, case should be ignored here.\n"
   ]
  },
  {
   "cell_type": "code",
   "execution_count": 3,
   "metadata": {},
   "outputs": [],
   "source": [
    "import re"
   ]
  },
  {
   "cell_type": "code",
   "execution_count": 5,
   "metadata": {},
   "outputs": [],
   "source": [
    "\n",
    "def regexFindingWordsInText():\n",
    "  '''Finding the word'''\n",
    "  try:\n",
    "    file =open(\"The_Raven.txt\", 'r', encoding=\"utf-8\")\n",
    "    file_contents = [line.strip() for line in file.readlines()] # remove new line characters\n",
    "    # result =re.search(r'\\bshrieked\\b',''.join(file_contents)) #uses a raw string\n",
    "    #result =re.search('shr.*d',''.join(file_contents)) #second argument must be a string\n",
    "    result = re.search(r'\\bleak\\b',\"\".join(file_contents))\n",
    "    if result is not None:\n",
    "      print(\"Found\")\n",
    "    else:\n",
    "      print(\"not found\")\n",
    "    file.close()\n",
    "  except FileNotFoundError:\n",
    "    print('Not able to open file - check if it exists')\n",
    "  except TypeError:\n",
    "    print('file was found but not able to search it')"
   ]
  },
  {
   "cell_type": "code",
   "execution_count": 6,
   "metadata": {},
   "outputs": [
    {
     "name": "stdout",
     "output_type": "stream",
     "text": [
      "not found\n"
     ]
    }
   ],
   "source": [
    "regexFindingWordsInText()"
   ]
  },
  {
   "cell_type": "code",
   "execution_count": 8,
   "metadata": {},
   "outputs": [],
   "source": [
    "def regexCountingWords():\n",
    "  '''counts words in a given text using regex'''\n",
    "  try:\n",
    "    f = open(\"The_Raven.txt\" , 'r', encoding=\"utf-8\")\n",
    "    file_contents = [line.strip() for line in f.readlines()]\n",
    "    result = re.findall(r'\\b\\w*pp\\w*\\b',''.join(file_contents))  #\\b enforces word boundaries and \\w* matches zero or more words after or before pp\n",
    "    if result is not None:\n",
    "      print(f'{len(result)} words matching the pattern were found')\n",
    "    else:\n",
    "      print('No matches were found')\n",
    "    f.close()\n",
    "  except FileNotFoundError:\n",
    "    print('Cannot open specified file')\n",
    "\n"
   ]
  },
  {
   "cell_type": "code",
   "execution_count": 9,
   "metadata": {},
   "outputs": [
    {
     "name": "stdout",
     "output_type": "stream",
     "text": [
      "5 words matching the pattern were found\n"
     ]
    }
   ],
   "source": [
    "regexCountingWords()"
   ]
  },
  {
   "cell_type": "code",
   "execution_count": 22,
   "metadata": {},
   "outputs": [],
   "source": [
    "def replacingCharRegex():\n",
    "  '''Regex for replacing characters'''\n",
    "\n",
    "  try:\n",
    "    f = open(\"The_Raven.txt\", mode=\"r\", encoding=\"utf-8\")\n",
    "    file_contents = [line.strip() for line in f.readlines()]\n",
    "    print(file_contents)\n",
    "    replaced_contents = re.sub(\"!\",\"#\",\"\".join(file_contents))\n",
    "    print(replaced_contents)\n",
    "    if replaced_contents is not None:  \n",
    "      f2 = open(\"The_Raven2.txt\", \"w\", encoding=\"utf-8\")\n",
    "      \n",
    "      f2.writelines(replaced_contents)\n",
    "      print('All ! were replaced with #')\n",
    "      f2.close()\n",
    "    else:\n",
    "      print('No matches! Nothing to replace')\n",
    "  except FileNotFoundError:\n",
    "    print('File not found')"
   ]
  },
  {
   "cell_type": "code",
   "execution_count": 23,
   "metadata": {},
   "outputs": [
    {
     "name": "stdout",
     "output_type": "stream",
     "text": [
      "['Once upon a midnight dreary, while I', 'pondered, weak and weary,', 'Over many a quaint and curious volume of forgotten lore-', 'While I nodded, nearly napping, suddenly', 'there came a tapping,', 'As of some one gently rapping, rapping at my chamber door -', \"'Tis some visitor,' I muttered, 'tapping at my chamber door -\", \"Only this and nothing more,'\", '', '“Be that word our sign of parting, bird or', 'fiend!” I shrieked, upstarting –', '“Get thee back into the tempest and the', 'Night’s Plutonian shore!', 'Leave no black plume as a token of that', 'Lie thy soul hath spoken!', 'Leave my loneliness unbroken! – quit the bust above my door!', 'Take thy beak from my heart, and take', 'thy form from off my door!”', 'Quoth the raven ‘Nevermore.’', '', 'Exert form Edger Allen Poe\\'s \"The Raven\".']\n",
      "Once upon a midnight dreary, while Ipondered, weak and weary,Over many a quaint and curious volume of forgotten lore-While I nodded, nearly napping, suddenlythere came a tapping,As of some one gently rapping, rapping at my chamber door -'Tis some visitor,' I muttered, 'tapping at my chamber door -Only this and nothing more,'“Be that word our sign of parting, bird orfiend#” I shrieked, upstarting –“Get thee back into the tempest and theNight’s Plutonian shore#Leave no black plume as a token of thatLie thy soul hath spoken#Leave my loneliness unbroken# – quit the bust above my door#Take thy beak from my heart, and takethy form from off my door#”Quoth the raven ‘Nevermore.’Exert form Edger Allen Poe's \"The Raven\".\n",
      "All ! were replaced with #\n"
     ]
    }
   ],
   "source": [
    "replacingCharRegex()"
   ]
  },
  {
   "cell_type": "markdown",
   "metadata": {},
   "source": [
    "## Exercise three\n",
    "Consider and discuss the following with your peers: \n",
    "\n",
    "What are the advantages and disadvantages of using regular expressions? \n",
    "Given your programming experience so far have there been instances where regex would have been beneficial? \n",
    "\n",
    "### Benefits\n",
    "- powerful pattern matching - allow for matching and extraction of strings based on patterns\n",
    "- they are widely supported by many programming languages\n",
    "- beneficial when validating user input as well as data extraction\n",
    "\n",
    "### Drawbacks\n",
    "- can become complex and hard to understand for some of the most intricate patterns\n",
    "- They can be hard to comprehend making the code less maintainable and harder to collaborate on\n",
    "\n"
   ]
  }
 ],
 "metadata": {
  "kernelspec": {
   "display_name": "Python 3",
   "language": "python",
   "name": "python3"
  },
  "language_info": {
   "codemirror_mode": {
    "name": "ipython",
    "version": 3
   },
   "file_extension": ".py",
   "mimetype": "text/x-python",
   "name": "python",
   "nbconvert_exporter": "python",
   "pygments_lexer": "ipython3",
   "version": "3.11.4"
  },
  "orig_nbformat": 4
 },
 "nbformat": 4,
 "nbformat_minor": 2
}
