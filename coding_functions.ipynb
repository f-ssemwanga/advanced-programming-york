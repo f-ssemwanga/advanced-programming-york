{
 "cells": [
  {
   "cell_type": "markdown",
   "metadata": {},
   "source": [
    "## Exercise one\n",
    "Write a program in Python that asks the user for a sentence and analyses it to establish the number of separate vowels (A, E, I, O, U) and the number of “other” non-space characters contained in the sentence. Your program should output a histogram which indicates a * (star) for each vowel character, followed by a statement indicating the number of other non-space characters.\n",
    "\n",
    "For example, if the input was: \n",
    "\n",
    "**The black cat sat up on the orange mat!**\n",
    "\n",
    "The output would be:\n",
    "![Exercise 1 Output](images/functionsExercise1.png)"
   ]
  },
  {
   "cell_type": "code",
   "execution_count": 13,
   "metadata": {},
   "outputs": [],
   "source": [
    "def sentenceAnalyser():\n",
    "  '''takes a sentence and outputs an analysis histogram'''\n",
    "  sentence = input('Enter a sentence to analyse: ')\n",
    "  ast =\"*\"\n",
    "  aTotal,eTotal,iTotal,oTotal,uTotal,otherTotal = (0,0,0,0,0,0)\n",
    "  splitSentence = sentence.split(\" \")\n",
    "  print(splitSentence)\n",
    "  for i in range(len(splitSentence)):\n",
    "    for char in splitSentence[i]:\n",
    "      if char.lower() ==\"a\":\n",
    "        aTotal +=1\n",
    "      elif char.lower() ==\"e\":\n",
    "        eTotal +=1\n",
    "      elif char.lower() ==\"i\":\n",
    "        iTotal +=1\n",
    "      elif char.lower() ==\"o\":\n",
    "        oTotal +=1\n",
    "      elif char.lower() ==\"u\":\n",
    "        uTotal +=1\n",
    "      elif char.lower() !=\" \":\n",
    "        otherTotal +=1\n",
    "  \n",
    "  print(f'A:{aTotal}|E:{eTotal}|I:{iTotal}|O:{oTotal}|U:{uTotal}|other:{otherTotal}')\n",
    "  print(f'A:\\t{ast*aTotal}')\n",
    "  print(f'E:\\t{ast*eTotal}')\n",
    "  print(f'I:\\t{ast*iTotal}')\n",
    "  print(f'O:\\t{ast*oTotal}')\n",
    "  print(f'U:\\t{ast*uTotal}')\n",
    "  print(f'Other (non-space) Characters:\\t{otherTotal}')"
   ]
  },
  {
   "cell_type": "code",
   "execution_count": 14,
   "metadata": {},
   "outputs": [
    {
     "name": "stdout",
     "output_type": "stream",
     "text": [
      "['Some', 'extra', 'sentence', 'which', 'Zion', 'cannot', 'exclaim?']\n",
      "A:3|E:6|I:3|O:3|U:0|other:25\n",
      "A:\t***\n",
      "E:\t******\n",
      "I:\t***\n",
      "O:\t***\n",
      "U:\t\n",
      "Other (non-space) Characters:\t25\n"
     ]
    }
   ],
   "source": [
    "sentenceAnalyser()"
   ]
  }
 ],
 "metadata": {
  "kernelspec": {
   "display_name": "Python 3",
   "language": "python",
   "name": "python3"
  },
  "language_info": {
   "codemirror_mode": {
    "name": "ipython",
    "version": 3
   },
   "file_extension": ".py",
   "mimetype": "text/x-python",
   "name": "python",
   "nbconvert_exporter": "python",
   "pygments_lexer": "ipython3",
   "version": "3.11.4"
  },
  "orig_nbformat": 4
 },
 "nbformat": 4,
 "nbformat_minor": 2
}
