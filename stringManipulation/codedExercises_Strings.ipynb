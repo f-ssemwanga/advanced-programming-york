{
 "cells": [
  {
   "attachments": {},
   "cell_type": "markdown",
   "metadata": {},
   "source": [
    "### Exercise one\n",
    "Write a program that outputs a times table from a given (user entered) integer value. It should start at 2 and output only the EVEN multiples. If the user entered the value 13, the even times table would be outputted in the following format:\n",
    "\n",
    "The even timetable for 13 is: \n",
    "![imageTable](../images/exercise1-format.png)\n",
    "        \n",
    "This program should continue until the user chooses to exit. You should format this so that the text “times” and “is” is always in the same column. The program should output up to and including 20 times the user value."
   ]
  },
  {
   "cell_type": "code",
   "execution_count": null,
   "metadata": {},
   "outputs": [
    {
     "name": "stdout",
     "output_type": "stream",
     "text": [
      "The even timetable for 7 is:\n",
      "2 times 7 is 14\n",
      "4 times 7 is 28\n",
      "6 times 7 is 42\n",
      "8 times 7 is 56\n",
      "10 times 7 is 70\n",
      "12 times 7 is 84\n",
      "14 times 7 is 98\n",
      "16 times 7 is 112\n",
      "18 times 7 is 126\n",
      "20 times 7 is 140\n",
      "Only integers may be entered\n",
      "Only integers may be entered\n",
      "The even timetable for 9 is:\n",
      "2 times 9 is 18\n",
      "4 times 9 is 36\n",
      "6 times 9 is 54\n",
      "8 times 9 is 72\n",
      "10 times 9 is 90\n",
      "12 times 9 is 108\n",
      "14 times 9 is 126\n",
      "16 times 9 is 144\n",
      "18 times 9 is 162\n",
      "20 times 9 is 180\n",
      "Goodbye!\n"
     ]
    }
   ],
   "source": [
    "def timestable():\n",
    "  \n",
    "  while True:\n",
    "    '''Outputs the times table shown above'''\n",
    "    try:\n",
    "      table_to_generate = int(input('Enter a number whose evens table to generate or 0 to Quit'))\n",
    "      if  table_to_generate >0:\n",
    "        print(f'The even timetable for {table_to_generate} is:')\n",
    "        for i in range(2,21):\n",
    "          if i%2 ==0:\n",
    "            print(f'{i} times {table_to_generate} is {i*table_to_generate}')\n",
    "      else:\n",
    "        print('Goodbye!')\n",
    "        break\n",
    "    except ValueError:\n",
    "      print('Only numeric values may be entered')\n",
    "timestable()"
   ]
  },
  {
   "cell_type": "markdown",
   "metadata": {},
   "source": [
    "### Exercise two\n",
    "In the sample code given for 'Iteration' in 1.1, there is a program for printing out a left-sided triangle of stars. \n",
    "\n",
    "1. Adapt the code to create a right-sided triangle.\n",
    "2. Adapt the code to output a diamond.\n",
    "3. Write a menu system so the user can choose the left or right-sided triangle, or diamond.\n",
    "4. Enable the program to take user input for the symbol used to generate the pattern and dictate the size of the pattern.\n",
    "The output from the program should look like this: \n",
    "![Exercise2 Output](../images/exercise2-output.png)\n",
    "\n",
    "#### Here is the code\n",
    "#5. Using nested for loops to generate a left handed triangle\n",
    "numStars = 4 ;\n",
    "spaces = numStars - 1;     \n",
    "for i in range(1, numStars+1):  \n",
    "    for j in range(1, i+1):\n",
    "        print(\"*\", end=\"\")\n",
    "    print()\n",
    "\n"
   ]
  },
  {
   "cell_type": "code",
   "execution_count": 9,
   "metadata": {},
   "outputs": [
    {
     "name": "stdout",
     "output_type": "stream",
     "text": [
      "*\n",
      "**\n",
      "***\n",
      "****\n",
      "*****\n",
      "******\n"
     ]
    }
   ],
   "source": [
    "def triangleGenerator(orientation):\n",
    "  # orientation =\"c\"\n",
    "  numStars = 8\n",
    "  spaces = numStars-1\n",
    "  center = spaces/2\n",
    "  for i in range(1, numStars-1):\n",
    "    if orientation ==\"r\":\n",
    "      for j in range(numStars -1, i-1,-1):\n",
    "        print(\" \", end= \"\")\n",
    "      for j in range(1, i+1):\n",
    "        print(\"\", end=\"*\")\n",
    "      print()\n",
    "    elif orientation ==\"l\":\n",
    "      for j in range(1, i+1):\n",
    "        print(\"\", end=\"*\")\n",
    "      print()\n",
    "    elif orientation == \"c\":\n",
    "      for j in range(int(center - i + 1)):\n",
    "        print(\" \", end=\"\")\n",
    "      for j in range(1, i + 1):\n",
    "        print(\"*\", end=\"\")\n",
    "      for j in range(i - 1, 0, -1):\n",
    "        print(\"*\", end=\"\")\n",
    "      print()\n",
    "      \n",
    "\n",
    "triangleGenerator(\"l\")"
   ]
  },
  {
   "cell_type": "code",
   "execution_count": 2,
   "metadata": {},
   "outputs": [
    {
     "name": "stdout",
     "output_type": "stream",
     "text": [
      "Pattern Generator\n",
      "1. Left Triangle\n",
      "2. Right Triangle\n",
      "3. Diamond\n",
      "     *\n",
      "    ***\n",
      "   *****\n",
      "  *******\n",
      " *********\n",
      "***********\n",
      " *********\n",
      "  *******\n",
      "   *****\n",
      "    ***\n",
      "     *\n"
     ]
    }
   ],
   "source": [
    "# Exercise two: Pattern generator.\n",
    "def left_triangle(character, layers):\n",
    "    for i in range(1, layers+1):\n",
    "        print(\" \" * (layers - i), end=\"\")\n",
    "        print(character * i)\n",
    "\n",
    "def right_triangle(character, layers):\n",
    "    for i in range(1, layers+1):\n",
    "        print(character * i)\n",
    "\n",
    "def diamond(character, layers):\n",
    "    for i in range(1, layers+1):\n",
    "        print(\" \" * (layers - i), end=\"\")\n",
    "        print(character * (2*i-1))\n",
    "\n",
    "    for i in range(layers-1, 0, -1):\n",
    "        print(\" \" * (layers - i), end=\"\")\n",
    "        print(character * (2*i-1))\n",
    "\n",
    "# Menu\n",
    "print(\"Pattern Generator\")\n",
    "print(\"1. Left Triangle\")\n",
    "print(\"2. Right Triangle\")\n",
    "print(\"3. Diamond\")\n",
    "\n",
    "option = input(\"Choose desirable pattern (1-3): \")\n",
    "character = input(\"Choose your character: \")\n",
    "layers = int(input(\"Choose a number of layers: \"))\n",
    "\n",
    "if option == \"1\":\n",
    "    left_triangle(character, layers)\n",
    "elif option == \"2\":\n",
    "    right_triangle(character, layers)\n",
    "elif option == \"3\":\n",
    "    diamond(character, layers)\n",
    "else:\n",
    "    print(\"Please choose a numer from 1 to 3.\")\n"
   ]
  },
  {
   "cell_type": "markdown",
   "metadata": {},
   "source": [
    "## Exercise three\n",
    "Write a program that outputs a calendar, given two values inputted by the user. If the user inputs the values of 30 and 7, the following structure will be produced, where 30 generates the number of days in the month and 7 (Sunday) indicates which day of the week the calendar starts on. The user should only be able to input a valid range of numbers, and regardless of the values entered the calendar should always output 7 lines (even if some of them are blank). \n",
    "\n",
    "![Exercise2 Output](../images/exercise3.png)"
   ]
  },
  {
   "cell_type": "code",
   "execution_count": 44,
   "metadata": {},
   "outputs": [
    {
     "name": "stdout",
     "output_type": "stream",
     "text": [
      "M\tT\tW\tTh\tF\tS\tSU\n",
      "\t\t\t\t\t\t\t\t\t\t\t\t\t\t\n",
      "1\t2\t3\t4\t5\t6\t7\t\n",
      "8\t9\t10\t11\t12\t13\t14\t\n",
      "15\t16\t17\t18\t19\t20\t21\t\n",
      "22\t23\t24\t25\t26\t27\t28\t\n",
      "29\t"
     ]
    }
   ],
   "source": [
    "def calendarGen():\n",
    "  days = int(input('Enter the number of days in the month: '))\n",
    "  start_day = int(input('Enter the day of the week the month starts on (1-7, where 1 is Monday and 7 is Sunday): ')) \n",
    "  if days < 1 or days > 31:\n",
    "    raise ValueError('Invalid number of days')\n",
    "  if start_day < 1 or start_day > 7:\n",
    "    raise ValueError('Invalid start day')\n",
    "\n",
    "  print('M\\tT\\tW\\tTh\\tF\\tS\\tSU')\n",
    "  day_counter = 1\n",
    "  for i in range(1, days + start_day):\n",
    "    if i <= start_day:\n",
    "      print('\\t', end='\\t')\n",
    "    else:\n",
    "      print(day_counter, end='\\t')\n",
    "      day_counter += 1\n",
    "\n",
    "    if i % 7 == 0:\n",
    "      print()\n",
    "calendarGen()"
   ]
  },
  {
   "cell_type": "code",
   "execution_count": 1,
   "metadata": {},
   "outputs": [
    {
     "name": "stdout",
     "output_type": "stream",
     "text": [
      "M  T  W  Th F  S  Su \n",
      "                1  2 \n",
      " 3  4  5  6  7  8  9 \n",
      "10 11 12 13 14 15 16 \n",
      "17 18 19 20 21 22 23 \n",
      "24 25 26 27 28 29 30 \n",
      "31 \n"
     ]
    }
   ],
   "source": [
    "# Exercise three: Write a program that outputs a calendar, given two values inputted by the user.\n",
    "total_days = int(input(\"Enter the total days of the month (28-31): \"))\n",
    "first_day = int(input(\"Enter the first day of the week (1-7): \"))\n",
    "\n",
    "def generate_calendar(total_days, first_day):\n",
    "    if total_days < 28 or total_days > 31 or first_day < 1 or first_day > 7:\n",
    "        print(\"Invalid input.\")\n",
    "        return\n",
    "\n",
    "    weekdays = [\"M\", \"T\", \"W\", \"Th\", \"F\", \"S\", \"Su\"]\n",
    "\n",
    "    for weekday in weekdays:\n",
    "        print(f\"{weekday:3s}\", end=\"\")\n",
    "    print()\n",
    "\n",
    "    first_day_position = (first_day - 1) * 3\n",
    "    print(\" \" * first_day_position, end=\"\")\n",
    "\n",
    "    max_digits = len(str(total_days))\n",
    "    spacing = \" \" * (max_digits + 1)\n",
    "\n",
    "    # Print calendar days\n",
    "    for day in range(1, total_days + 1):\n",
    "        print(f\"{day:{max_digits}d}\", end=\" \")\n",
    "\n",
    "        # Sunday's new line\n",
    "        if (first_day + day - 1) % 7 == 0:\n",
    "            print()\n",
    "\n",
    "    print()\n",
    "\n",
    "generate_calendar(total_days, first_day)"
   ]
  }
 ],
 "metadata": {
  "kernelspec": {
   "display_name": "Python 3",
   "language": "python",
   "name": "python3"
  },
  "language_info": {
   "codemirror_mode": {
    "name": "ipython",
    "version": 3
   },
   "file_extension": ".py",
   "mimetype": "text/x-python",
   "name": "python",
   "nbconvert_exporter": "python",
   "pygments_lexer": "ipython3",
   "version": "3.11.4"
  },
  "orig_nbformat": 4
 },
 "nbformat": 4,
 "nbformat_minor": 2
}
