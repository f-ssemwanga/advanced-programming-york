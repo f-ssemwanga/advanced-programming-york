{
 "cells": [
  {
   "cell_type": "markdown",
   "metadata": {},
   "source": [
    "## Exercise one\n",
    "Write a module that provides the following conversions:\n",
    "\n",
    "- Length - feet (') and inches ('') to meters (m)\n",
    "- Mass - pounds (lbs) to kilograms (kg)\n",
    "- Temperature - Kelvin (K) to Celsius (oC)\n",
    "- Time - hours (h) and minutes(m) to seconds (s)\n",
    "\n",
    "Each calculation should be within its own function, with the module, so you will write eight functions altogether. Write a program that provides a suitable menu system for your conversion functions. This program should import the module and access the functions (functions should not be defined in the same file as the user interface). You will need to carefully consider how the user enters information and the upper and lower bounds (valid range) for each type of conversion. For example, the temperature cannot go below 0o Kelvin. "
   ]
  },
  {
   "cell_type": "code",
   "execution_count": 6,
   "metadata": {},
   "outputs": [],
   "source": [
    "from conversionModule import *\n",
    "\n",
    "def conversionCalculator():\n",
    "  \n",
    "  print(\"Choose an option from the menu\")\n",
    "  displayMenu =\"\"\n",
    "  while display!=10:\n",
    "    print(\"1. Convert Length\\n2. Convert Mass\\n3. Convert Temperature\\n4. Convert Time \\n5. Quit \")\n",
    "    option = inputValidator(\"menu\")\n",
    "    if option ==1:\n",
    "      lengthConverter()\n",
    "    elif option ==2:\n",
    "     massConverter()\n",
    "    elif option ==3:\n",
    "     tempConverter()\n",
    "    elif option ==4:\n",
    "     timeConverter()\n",
    "    elif option ==5:\n",
    "      displayMenu == 10\n",
    " \n",
    "      \n",
    "  "
   ]
  }
 ],
 "metadata": {
  "kernelspec": {
   "display_name": "Python 3",
   "language": "python",
   "name": "python3"
  },
  "language_info": {
   "codemirror_mode": {
    "name": "ipython",
    "version": 3
   },
   "file_extension": ".py",
   "mimetype": "text/x-python",
   "name": "python",
   "nbconvert_exporter": "python",
   "pygments_lexer": "ipython3",
   "version": "3.11.4"
  },
  "orig_nbformat": 4
 },
 "nbformat": 4,
 "nbformat_minor": 2
}
