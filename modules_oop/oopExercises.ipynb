{
 "cells": [
  {
   "cell_type": "code",
   "execution_count": null,
   "metadata": {},
   "outputs": [],
   "source": []
  },
  {
   "cell_type": "markdown",
   "metadata": {},
   "source": [
    "## Exercise two\n",
    "Copy the code used in the examples above and extend it in the following ways:\n",
    "\n",
    "- Create a Name class that has the attributes firstName, surname, title and otherNames. You will need to use a suitable data structure for other names. \n",
    "- Write a method in the class called formalName() that will output a name in the following format:\n",
    "\n",
    "* Mr J. S. Greenhold or Mr J. Greenhold if there are no middle names.\n",
    "\n",
    "- Use the Name class within a Person object to demonstrate composition.\n",
    "- Create a sub-class of Student for DistanceStudent and add the attribute currentModule.\n",
    "- Using this structure and any other appropriate methods, create a DistanceStudent and printout the following:\n",
    "\n",
    "* Mr J. S. Greenhold is currently studying the Advanced Programming module."
   ]
  },
  {
   "cell_type": "code",
   "execution_count": 17,
   "metadata": {},
   "outputs": [],
   "source": [
    "class Name:\n",
    "  def __init__(self,firstName, surname, title=\"Mr\",otherNames=[]):\n",
    "    self.firstName = firstName\n",
    "    self.surname = surname\n",
    "    self.title = title\n",
    "    self.otherNames = otherNames\n",
    "  \n",
    "  def formatName(self):\n",
    "    if self.otherNames:\n",
    "      return f\"{self.title} {self.firstName} {' '.join(self.otherNames[1:])}{self.surname}\"\n",
    "    else:\n",
    "      return f\"{self.title} {self.firstName} {self.surname}\"\n",
    "class Person(object):\n",
    "  def __init__(self,name, address,age) -> None:\n",
    "    self.name = name\n",
    "    self.address = address\n",
    "    self.age = age\n",
    "    self.nameObject =Name(name.split()[0], name.split()[-1], \"Mr\")\n",
    "  \n",
    "  def personalDetails(self):\n",
    "    return self.nameObject.formatName(), self.address, self.age\n",
    "  \n",
    "class Student(Person):\n",
    "  def __init__(self, name, address, age, id):\n",
    "    super(Student,self).__init__(name, address, age)\n",
    "    self.id = id\n",
    "  def personalDetails(self):\n",
    "    return super(Student.self).personalDetails(), self.id\n",
    "  \n",
    "class DistanceStudent(Student):\n",
    "    def __init__(self, name, address, age, id, currentModule):\n",
    "      super(DistanceStudent,self).__init__(name,address, age,id)\n",
    "      self.currentModule = currentModule\n",
    "      \n",
    "    def printDetails(self):\n",
    "      print(f\"{self.nameObject.formatName()} is currently studying at the {self.currentModule} module\")\n"
   ]
  },
  {
   "cell_type": "code",
   "execution_count": 15,
   "metadata": {},
   "outputs": [
    {
     "name": "stdout",
     "output_type": "stream",
     "text": [
      "Mr John John is currently studying at the Advanced Programming module\n"
     ]
    }
   ],
   "source": [
    "name =\"John Smith\"\n",
    "address = \"11 Apsley Close\"\n",
    "age =30\n",
    "currentModule = \"Advanced Programming\"\n",
    "\n",
    "student = DistanceStudent(name,address, age,2345, currentModule)\n",
    "student.printDetails()"
   ]
  }
 ],
 "metadata": {
  "kernelspec": {
   "display_name": "Python 3",
   "language": "python",
   "name": "python3"
  },
  "language_info": {
   "codemirror_mode": {
    "name": "ipython",
    "version": 3
   },
   "file_extension": ".py",
   "mimetype": "text/x-python",
   "name": "python",
   "nbconvert_exporter": "python",
   "pygments_lexer": "ipython3",
   "version": "3.11.4"
  },
  "orig_nbformat": 4
 },
 "nbformat": 4,
 "nbformat_minor": 2
}
