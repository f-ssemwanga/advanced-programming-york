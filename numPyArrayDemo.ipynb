{
 "cells": [
  {
   "cell_type": "code",
   "execution_count": 1,
   "metadata": {},
   "outputs": [
    {
     "data": {
      "text/plain": [
       "array([[-1.6493084 ,  0.81292348,  0.46703803],\n",
       "       [ 0.07396087, -0.27423135, -0.17058509]])"
      ]
     },
     "execution_count": 1,
     "metadata": {},
     "output_type": "execute_result"
    }
   ],
   "source": [
    "import numpy as np\n",
    "\n",
    "#generate some random data\n",
    "data = np.random.randn(2,3)\n",
    "data"
   ]
  },
  {
   "cell_type": "code",
   "execution_count": 8,
   "metadata": {},
   "outputs": [
    {
     "name": "stdout",
     "output_type": "stream",
     "text": [
      "data *10: [[-16.49308404   8.12923483   4.67038035]\n",
      " [  0.73960867  -2.74231352  -1.7058509 ]]\n",
      "\n",
      "data + data: [[-3.29861681  1.62584697  0.93407607]\n",
      " [ 0.14792173 -0.5484627  -0.34117018]]\n",
      "\n",
      "data.dtype: float64\n"
     ]
    }
   ],
   "source": [
    "#perform a mathematical operation on the data\n",
    "print(f'data *10: {data *10}')\n",
    "print()\n",
    "print(f'data + data: {data + data}')\n",
    "print()\n",
    "print(f'data.dtype: {data.dtype}')\n"
   ]
  },
  {
   "cell_type": "markdown",
   "metadata": {},
   "source": [
    "## Creating ndarrays\n",
    "\n",
    "- easiest way to create an ndarray is to use the array function\n",
    "- ![Table of Array Creation functions](./images/tableOfArrayCreationFunctions.png)"
   ]
  },
  {
   "cell_type": "code",
   "execution_count": 9,
   "metadata": {},
   "outputs": [
    {
     "data": {
      "text/plain": [
       "array([6. , 7.5, 8. , 0. , 1. ])"
      ]
     },
     "execution_count": 9,
     "metadata": {},
     "output_type": "execute_result"
    }
   ],
   "source": [
    "data1 = [6, 7.5, 8, 0, 1]\n",
    "array1 = np.array(data1)\n",
    "array1"
   ]
  },
  {
   "cell_type": "code",
   "execution_count": 19,
   "metadata": {},
   "outputs": [
    {
     "name": "stdout",
     "output_type": "stream",
     "text": [
      "arr2 [[1 2 3 4]\n",
      " [5 6 7 8]]\n",
      "arr2 dimensions: 2 | arr2 shape: (2, 4)  arr2 data type: int32 \n",
      "[0. 0. 0. 0. 0. 0. 0. 0. 0. 0.]\n",
      "\n",
      "[[0. 0. 0. 0. 0. 0.]\n",
      " [0. 0. 0. 0. 0. 0.]\n",
      " [0. 0. 0. 0. 0. 0.]]\n"
     ]
    }
   ],
   "source": [
    "#converting a nested sequence of equal-length lists into an ndarray\n",
    "\n",
    "data2 = [\n",
    "  [1,2,3,4],\n",
    "  [5,6,7,8]\n",
    "]\n",
    "arr2 = np.array(data2)\n",
    "arr2\n",
    "print(f'arr2 {arr2}')\n",
    "print(f'arr2 dimensions: {arr2.ndim} | arr2 shape: {arr2.shape}  arr2 data type: {arr2.dtype} ')\n",
    "\n",
    "#create an array of zeros\n",
    "arr3 = np.zeros(10)\n",
    "arr4 = np.zeros((3,6))\n",
    "print(arr3)\n",
    "print()\n",
    "print(arr4)\n"
   ]
  },
  {
   "cell_type": "code",
   "execution_count": 22,
   "metadata": {},
   "outputs": [
    {
     "data": {
      "text/plain": [
       "array([ 0,  1,  2,  3,  4,  5,  6,  7,  8,  9, 10, 11, 12, 13, 14])"
      ]
     },
     "execution_count": 22,
     "metadata": {},
     "output_type": "execute_result"
    }
   ],
   "source": [
    "#create an empty numpy array\n",
    "np.empty((2,3,2))\n",
    "\n",
    "#create an array using np.arange\n",
    "\n",
    "np.arange(15)\n"
   ]
  },
  {
   "cell_type": "code",
   "execution_count": 25,
   "metadata": {},
   "outputs": [
    {
     "name": "stdout",
     "output_type": "stream",
     "text": [
      "float64\n",
      "int32\n"
     ]
    }
   ],
   "source": [
    "#specifying data types\n",
    "arr1 = np.array([1,2,3], dtype = np.float64)\n",
    "arr3 = np.array([1,2,3], dtype = np.int32)\n",
    "\n",
    "print(arr1.dtype)\n",
    "print(arr3.dtype)"
   ]
  },
  {
   "cell_type": "code",
   "execution_count": 34,
   "metadata": {},
   "outputs": [
    {
     "name": "stdout",
     "output_type": "stream",
     "text": [
      "arr: [1 2 3 4 5] | arr.dtype: int32\n",
      "float_arr: [1. 2. 3. 4. 5.] | float_arr.dtype: float64\n",
      "---------------------------------------------------------------\n",
      "arr1: [ 3.7 -1.2 -2.6  0.5 12.9 10.1] | arr1.dtype: float64\n",
      "float_arr1: [ 3 -1 -2  0 12 10] | float_arr1.dtype: int32\n",
      "---------------------------------------------------------------\n",
      "numeric string:[b'1.25' b'-9.6' b'42']\n",
      "numeric string to float:[ 1.25 -9.6  42.  ]\n"
     ]
    }
   ],
   "source": [
    "#casting an array from one type to another using ndarray's astype()\n",
    "\n",
    "arr = np.array([1,2,3,4,5])\n",
    "print(f'arr: {arr} | arr.dtype: {arr.dtype}')\n",
    "\n",
    "float_arr = arr.astype(np.float64)\n",
    "print(f'float_arr: {float_arr} | float_arr.dtype: {float_arr.dtype}')\n",
    "\n",
    "arr1 = np.array([3.7,-1.2,-2.6,0.5, 12.9, 10.1])\n",
    "print('---------------------------------------------------------------')\n",
    "\n",
    "print(f'arr1: {arr1} | arr1.dtype: {arr1.dtype}')\n",
    "int_arr1 = arr1.astype(np.int32)\n",
    "print(f'float_arr1: {int_arr1} | float_arr1.dtype: {int_arr1.dtype}')\n",
    "\n",
    "#converting an array of string into float\n",
    "numeric_strings =np.array(['1.25', '-9.6', '42'], dtype = np.string_)\n",
    "print('---------------------------------------------------------------')\n",
    "print(f'numeric string:{numeric_strings}')\n",
    "numeric_strings_to_float = numeric_strings.astype(float)\n",
    "print(f'numeric string to float:{numeric_strings_to_float}')\n"
   ]
  },
  {
   "cell_type": "code",
   "execution_count": null,
   "metadata": {},
   "outputs": [],
   "source": [
    "#Arithmetic with NumPy Arrays"
   ]
  }
 ],
 "metadata": {
  "kernelspec": {
   "display_name": "Python 3",
   "language": "python",
   "name": "python3"
  },
  "language_info": {
   "codemirror_mode": {
    "name": "ipython",
    "version": 3
   },
   "file_extension": ".py",
   "mimetype": "text/x-python",
   "name": "python",
   "nbconvert_exporter": "python",
   "pygments_lexer": "ipython3",
   "version": "3.11.4"
  },
  "orig_nbformat": 4
 },
 "nbformat": 4,
 "nbformat_minor": 2
}
