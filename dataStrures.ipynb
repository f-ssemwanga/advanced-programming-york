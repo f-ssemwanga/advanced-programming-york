{
 "cells": [
  {
   "cell_type": "markdown",
   "metadata": {},
   "source": [
    "## Exercise one\n",
    "Using an appropriate Python data structure, implement two programs that demonstrate the behaviour of a stack (LIFO) queue (FIFO). For each program, you should create a menu system to enable the user to manipulate the structure, and the program should keep running until the user chooses to exit. An example menu for a stack would be:\n",
    "\n",
    "1. Push\n",
    "2. Pop\n",
    "3. View"
   ]
  },
  {
   "cell_type": "code",
   "execution_count": null,
   "metadata": {},
   "outputs": [],
   "source": [
    "#stack demo application\n",
    "def inputValidator(inputString):\n",
    "  '''returns numeric user choice'''\n",
    "  while True:\n",
    "    try:\n",
    "      choice = int(input(f\"Enter a {inputString}:\"))\n",
    "      return choice\n",
    "    except ValueError:\n",
    "      print('Enter a numeric value')\n",
    "\n",
    "def stackOperation():\n",
    "  '''stack demo'''\n",
    "  stackItems = []\n",
    "  while True:\n",
    "    print('-'*30)\n",
    "    print('Choose Stack operations\\n1. Push\\n2. Pop\\n3. View\\n4. Return to main menu')\n",
    "    operation =inputValidator(\"stack operation\")\n",
    "    print('-'*15)\n",
    "    print()\n",
    "    if operation ==1:\n",
    "      print(f'Original Stack status: {stackItems}')\n",
    "      toPush = inputValidator(\"value to push onto the stack\")\n",
    "      print(f'Original Stack: {stackItems}')\n",
    "      stackItems.insert(0,toPush)\n",
    "      print(f'Updated Stack status: {stackItems}')\n",
    "      continue\n",
    "    elif operation == 2:\n",
    "      if len(stackItems) ==0:\n",
    "        print('No items to pop! Stack is empty')\n",
    "        continue\n",
    "      else:\n",
    "        print(f'Original Stack: {stackItems}')\n",
    "        del stackItems[0]\n",
    "        print(f'Updated Stack status: {stackItems}')\n",
    "        continue\n",
    "    elif operation ==3:\n",
    "      print(f'Current Stack status: {stackItems}')\n",
    "      continue\n",
    "    elif operation == 4:\n",
    "      break\n",
    "    else:\n",
    "      print('Invalid menu option')\n",
    "def queueOperation():\n",
    "  '''queue demo'''\n",
    "  queueItems = []\n",
    "  while True:\n",
    "    print('-'*30)\n",
    "    print('Choose Queue operation: \\n1. Push\\n2. Pop\\n3. View\\n4. Return to main menu')\n",
    "    operation =inputValidator(\"queue operation\")\n",
    "    print('-'*30)\n",
    "    print()\n",
    "    if operation ==1:\n",
    "      print(f'Original Queue status: {queueItems}')\n",
    "      toPush = inputValidator(\"value to push onto the queue\")\n",
    "      print(f'Original Queue: {queueItems}')\n",
    "      queueItems.append(toPush)\n",
    "      print(f'Updated Queue status: {queueItems}')\n",
    "      continue\n",
    "    elif operation == 2:\n",
    "      if len(queueItems) ==0:\n",
    "        print('No items to pop! Queue is empty')\n",
    "        continue\n",
    "      else:\n",
    "        print(f'Original Queue: {queueItems}')\n",
    "        del queueItems[0]\n",
    "        print(f'Updated Queue status: {queueItems}')\n",
    "        continue\n",
    "    elif operation ==3:\n",
    "      print(f'Current Queue status: {queueItems}')\n",
    "      continue\n",
    "    elif operation == 4:\n",
    "      break   \n",
    "    else:\n",
    "     print('Invalid menu option') \n",
    "  "
   ]
  },
  {
   "cell_type": "code",
   "execution_count": null,
   "metadata": {},
   "outputs": [],
   "source": [
    "def main():\n",
    "  '''Menu to demo a stack'''\n",
    "  while True:\n",
    "    print(\"Choose a structure to test:\")\n",
    "    print('1. Stack\\n2. Queue\\n3. Quit')\n",
    "    userChoice = inputValidator(\"menu choice\")\n",
    "    if userChoice == 1:\n",
    "      stackOperation()\n",
    "    if userChoice == 2:\n",
    "      queueOperation()\n",
    "    elif userChoice == 3:\n",
    "      quit()\n"
   ]
  },
  {
   "cell_type": "code",
   "execution_count": null,
   "metadata": {},
   "outputs": [],
   "source": [
    "main()"
   ]
  },
  {
   "cell_type": "markdown",
   "metadata": {},
   "source": [
    "## Exercise two\n",
    "A business has a number of retail outlets across the world. Each outlet keeps a track of its monthly sales and sends a quarterly report to the company's headquarters. Using at least two different data structures, write a program that calculates the average for each outlet and each month, the total for each outlet and each month, and the grand total for the quarter. You should hard code (write data into your program directly) all the data you need once only. The output should be formatted as shown below.\n",
    "\n",
    "Hint: Remember, a data structure can be nested within another data structure, and the content of one data structure can be used as a reference point in another (see the sample code).\n",
    "![Exercise2 Output](images/DataStructures_task2.png)"
   ]
  }
 ],
 "metadata": {
  "kernelspec": {
   "display_name": "Python 3",
   "language": "python",
   "name": "python3"
  },
  "language_info": {
   "codemirror_mode": {
    "name": "ipython",
    "version": 3
   },
   "file_extension": ".py",
   "mimetype": "text/x-python",
   "name": "python",
   "nbconvert_exporter": "python",
   "pygments_lexer": "ipython3",
   "version": "3.11.4"
  },
  "orig_nbformat": 4
 },
 "nbformat": 4,
 "nbformat_minor": 2
}
